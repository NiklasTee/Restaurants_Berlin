{
 "cells": [
  {
   "cell_type": "markdown",
   "metadata": {},
   "source": [
    "# Google ID\n",
    "\n",
    "Detailed information (e.g. user rating, price level, geometric location) about an entry in the Google Places API are requested through an identification number assigned by Google. Listed places therefore need to have at least one 'place_id'. "
   ]
  },
  {
   "cell_type": "markdown",
   "metadata": {},
   "source": [
    "Unfortunately Google charges you for their API service. Since my free trial ended in December, I am not able to share my API key with you. If you sign up at [Google Cloud](https://cloud.google.com/?hl=de) you will receive a 90 days trial. Be aware that this requires your credit card information."
   ]
  },
  {
   "cell_type": "markdown",
   "metadata": {},
   "source": [
    "## 'Place Search' API Request\n",
    "\n",
    "The 'Place Search' takes an input and returns general informations about a place.\n",
    "\n",
    "Possible input types are:\n",
    "\n",
    "1)  via 'phonenumber'(string - international format prefixed by a plus sign)\n",
    "<br> 2)  via 'textquery' (string)"
   ]
  },
  {
   "cell_type": "markdown",
   "metadata": {},
   "source": [
    "The Restaurants dataset contains each restaurants name and phone number. Therefore both input types can be used to accquire the 'place_id'. <br> I have decided to try both ways, making sure I get the right results."
   ]
  },
  {
   "cell_type": "markdown",
   "metadata": {},
   "source": [
    "### 1) Using each restaurants phone number\n",
    "\n",
    "The request requires a list of fon numbers from each restaurant:"
   ]
  },
  {
   "cell_type": "code",
   "execution_count": null,
   "metadata": {},
   "outputs": [],
   "source": [
    "import csv\n",
    "import googlemaps\n",
    "import pandas as pd\n",
    "\n",
    "# Import original csv.file with relevant informations \n",
    "data = pd.read_csv(r'data/restaurants.csv', converters={'fon': str}, delimiter=\";\")\n",
    "restaurants_df = pd.DataFrame(data, columns=[\n",
    "    'unique_id',\n",
    "    'name',\n",
    "    'strasse_nr',\n",
    "    'art',\n",
    "    'lieferung',\n",
    "    'fon'])\n",
    "\n",
    "# Only restaurants shall be included\n",
    "restaurants_df = restaurants_df.drop(restaurants_df[restaurants_df.art != \"Gastronomie (Café, Restaurant, Imbiss, Lebensmittelhandlung, usw.)\"].index)\n",
    "\n",
    "# Creating a phone book\n",
    "fon_book = restaurants_df['fon']"
   ]
  },
  {
   "cell_type": "markdown",
   "metadata": {},
   "source": [
    "The 'googlemaps' module is the Python client for connecting to the Google Maps API services:"
   ]
  },
  {
   "cell_type": "code",
   "execution_count": null,
   "metadata": {},
   "outputs": [],
   "source": [
    "# API specifications\n",
    "api_key = input(\"Enter your Google-API-Key here: \")\n",
    "gmaps = googlemaps.Client(key=api_key)\n",
    "\n",
    "# Creating a dictionary with layout {'phonenumber': 'place_id'}\n",
    "fon_id = {}\n",
    "\n",
    "# Executing the API request\n",
    "for fon in fon_book:\n",
    "    if fon == \"\":\n",
    "        pass\n",
    "    else:\n",
    "        places_result = gmaps.find_place(input=fon, input_type=\"phonenumber\")\n",
    "        fon_id[fon] = places_result['candidates']\n",
    "\n",
    "# Export dictionary as csv.file\n",
    "with open('data/fon_id.csv', 'w') as csv_file:\n",
    "    writer = csv.writer(csv_file)\n",
    "    for key, value in fon_id.items():\n",
    "        writer.writerow([key, value])"
   ]
  },
  {
   "cell_type": "markdown",
   "metadata": {},
   "source": [
    "<br> Executing the request took about 1 minute. I have received the following CSV file:"
   ]
  },
  {
   "cell_type": "code",
   "execution_count": null,
   "metadata": {},
   "outputs": [],
   "source": [
    "with open('data/fon_id.csv', 'r') as csv_file:\n",
    "    for line in csv_file:\n",
    "        print(line)"
   ]
  },
  {
   "cell_type": "markdown",
   "metadata": {},
   "source": [
    "<br> Unfortunately a 'place_id' was not found for all fon numbers. This may be connected to the fact that the number used for entering the survey differs from the number stored on Google. I was also astonished that multiple 'place_ids' were found for some phone numbers. In this case, place owners might run several businesses."
   ]
  },
  {
   "cell_type": "markdown",
   "metadata": {},
   "source": [
    "### 2) Using each restaurants name\n",
    "\n",
    "The request requires a list with the name of each restaurant. In order to receive more precise results, I have decided to include the address (i.e. street and number) as well. Otherwise, unspecific names (e.g. \"McDonald's\") would be searched based on the location of the inquirers IP address:"
   ]
  },
  {
   "cell_type": "code",
   "execution_count": null,
   "metadata": {},
   "outputs": [],
   "source": [
    "# Creating new column with request text\n",
    "restaurants_df['name_street'] = restaurants_df['name'] + \" \" + restaurants_df['strasse_nr']\n",
    "name_book_df = restaurants_df[['name', 'name_street']]\n",
    "\n",
    "# API specifications\n",
    "api_key = input(\"Enter your API-Key here: \")\n",
    "gmaps = googlemaps.Client(key=api_key)\n",
    "\n",
    "# Creating a dictionary with layout {'name': 'place_id'}\n",
    "name_id = {}\n",
    "\n",
    "# Executing the request\n",
    "for index, restaurant in name_book_df.iterrows():\n",
    "    name_street = restaurant['name_street']\n",
    "    name = restaurant['name']\n",
    "    places_result = gmaps.find_place(input=name_street, input_type='textquery')\n",
    "    name_id[name] = places_result['candidates']\n",
    "\n",
    "# Export dictionary as csv.file\n",
    "with open('data/name_id.csv', 'w') as csv_file:\n",
    "    writer = csv.writer(csv_file)\n",
    "    for key, value in name_id.items():\n",
    "        writer.writerow([key, value])"
   ]
  },
  {
   "cell_type": "markdown",
   "metadata": {},
   "source": [
    "<br> Executing the request took about 5 minutes. I have received the following CSV file:"
   ]
  },
  {
   "cell_type": "code",
   "execution_count": null,
   "metadata": {},
   "outputs": [],
   "source": [
    "with open('data/name_id.csv', 'r') as csv_file:\n",
    "    for line in csv_file:\n",
    "        print(line)"
   ]
  },
  {
   "cell_type": "markdown",
   "metadata": {},
   "source": [
    "Using the restaurants name turned out to return better results then the phone number. However, still not all 'place_id's were found. Additionally, there was still the problem of multiple ids for some places."
   ]
  },
  {
   "cell_type": "markdown",
   "metadata": {},
   "source": [
    "## Appending the Place ID's\n",
    "\n",
    "The results of both requests shall be appended to the Restaurants data:"
   ]
  },
  {
   "cell_type": "markdown",
   "metadata": {},
   "source": [
    "### 1) received via phone number"
   ]
  },
  {
   "cell_type": "code",
   "execution_count": null,
   "metadata": {},
   "outputs": [],
   "source": [
    "# Load fon_id.csv as dataframe\n",
    "data2 = pd.read_csv(r'data/fon_id.csv', delimiter=',', dtype=str, header=None)\n",
    "data2.columns = ['fon', 'fon_place_id']\n",
    "fon_id_df = pd.DataFrame(data2)\n",
    "\n",
    "# Dissolve nested place_id\n",
    "data2['fon_place_id'] = data2['fon_place_id'].str.replace(\"{'place_id': \", \"\", regex=False)\n",
    "data2['fon_place_id'] = data2['fon_place_id'].str.replace(\"}\", \"\", regex=False)\n",
    "\n",
    "# Merge dataframes based on overlapping 'fon'\n",
    "restaurants_fon_id_df = pd.merge(restaurants_df, fon_id_df)"
   ]
  },
  {
   "cell_type": "markdown",
   "metadata": {},
   "source": [
    "Now the 'place_id' received through the phone number API-query is appended to the Restaurants dataframe. Since there are a lot of missing values, it is necessary to add the results received through name as well:"
   ]
  },
  {
   "cell_type": "markdown",
   "metadata": {},
   "source": [
    "### 2) received via name"
   ]
  },
  {
   "cell_type": "code",
   "execution_count": null,
   "metadata": {},
   "outputs": [],
   "source": [
    "# Load name_id.csv as dataframe\n",
    "data3 = pd.read_csv(r'data/name_id.csv', delimiter=',', encoding='cp1252', dtype=str, header=None)\n",
    "data3.columns = ['name', 'name_place_id']\n",
    "name_id_df = pd.DataFrame(data3)\n",
    "\n",
    "# Dissolve nested place_id\n",
    "data3['name_place_id'] = data3['name_place_id'].str.replace(\"{'place_id': \", \"\", regex=False)\n",
    "data3['name_place_id'] = data3['name_place_id'].str.replace(\"}\", \"\", regex=False)\n",
    "\n",
    "# Merge dataframes based on overlapping 'name'\n",
    "restaurants_id_df = pd.merge(restaurants_fon_id_df, name_id_df)"
   ]
  },
  {
   "cell_type": "markdown",
   "metadata": {},
   "source": [
    "<br>The modified Restaurants dataframe with the Google 'place_id' looks like this:"
   ]
  },
  {
   "cell_type": "code",
   "execution_count": null,
   "metadata": {
    "scrolled": true
   },
   "outputs": [],
   "source": [
    "display(restaurants_id_df)"
   ]
  },
  {
   "cell_type": "markdown",
   "metadata": {},
   "source": [
    "<br> The dataframe is exported as CSV and Pickle file:"
   ]
  },
  {
   "cell_type": "code",
   "execution_count": null,
   "metadata": {},
   "outputs": [],
   "source": [
    "restaurants_id_df.to_csv(r'data/restaurants_with_google_id.csv', sep=';', index=False)\n",
    "restaurants_id_df.to_pickle(r'data/restaurants_with_google_id.pkl')"
   ]
  },
  {
   "cell_type": "code",
   "execution_count": null,
   "metadata": {},
   "outputs": [],
   "source": []
  }
 ],
 "metadata": {
  "kernelspec": {
   "display_name": "Python 3",
   "language": "python",
   "name": "python3"
  },
  "language_info": {
   "codemirror_mode": {
    "name": "ipython",
    "version": 3
   },
   "file_extension": ".py",
   "mimetype": "text/x-python",
   "name": "python",
   "nbconvert_exporter": "python",
   "pygments_lexer": "ipython3",
   "version": "3.8.3"
  }
 },
 "nbformat": 4,
 "nbformat_minor": 4
}
