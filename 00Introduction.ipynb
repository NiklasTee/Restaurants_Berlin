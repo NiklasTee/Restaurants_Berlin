{
 "cells": [
  {
   "cell_type": "markdown",
   "metadata": {},
   "source": [
    "# Introduction\n",
    "\n",
    "There are over 5000 restaurants in Germanys capital Berlin. All of them had to stop in house service during the first peak of the COVID pandemic. While some places swiftly arranged a delivery service or already had an existing one, others decided to shut down completly. The demand for take away and delivery was high during isolation. Since it was sometimes not easy to figure out if the restaurant you usually spend a pre-pandemic friday night at is still serving dishes, the city of Berlin established an open [dataset](https://daten.berlin.de/datensaetze/gastronomien-laden-und-andere-gesch%C3%A4fte-mit-liefer-und-abholservice). \n",
    "Owners were asked, to answer basic questions about their business (i.e. name, adress, opening hours) and whether they offer delivery and take-away service. Within a few weeks, over 1000 places signed up."
   ]
  },
  {
   "cell_type": "markdown",
   "metadata": {},
   "source": [
    "What makes the dataset interesting to analyze, is the way of data collection. Surveying business owners can give interesting insights on the consequences of the pandemic. In addition, with help of Googles Places API one has access to more consumer-orientated informations. This unique information blend (survey and Google API) creates further opportunities for data analyzation. The true power of this approach might be exploited when using even bigger datasets."
   ]
  },
  {
   "cell_type": "markdown",
   "metadata": {},
   "source": [
    "The following notebooks aim on:\n",
    "- Receiving and adding informations from the Google Places API\n",
    "- Processing the raw data\n",
    "- Giving an overview on the dataset\n",
    "- Discovering correlations\n",
    "- Hypothesizing about causalities\n",
    "- Visualizing the findings"
   ]
  },
  {
   "cell_type": "markdown",
   "metadata": {},
   "source": [
    "Here is what the original dataset looks like:"
   ]
  },
  {
   "cell_type": "code",
   "execution_count": null,
   "metadata": {
    "scrolled": true
   },
   "outputs": [],
   "source": [
    "import csv\n",
    "import pandas as pd\n",
    "\n",
    "# Import original csv.file\n",
    "data = pd.read_csv(r'data/restaurants.csv', converters={'fon': str}, delimiter=\";\")\n",
    "restaurants_df = pd.DataFrame(data)\n",
    "\n",
    "print(restaurants_df.shape)\n",
    "with pd.option_context('display.max_rows', None, 'display.max_columns', None):\n",
    "    display(restaurants_df)"
   ]
  }
 ],
 "metadata": {
  "kernelspec": {
   "display_name": "Python 3",
   "language": "python",
   "name": "python3"
  },
  "language_info": {
   "codemirror_mode": {
    "name": "ipython",
    "version": 3
   },
   "file_extension": ".py",
   "mimetype": "text/x-python",
   "name": "python",
   "nbconvert_exporter": "python",
   "pygments_lexer": "ipython3",
   "version": "3.8.3"
  }
 },
 "nbformat": 4,
 "nbformat_minor": 4
}
