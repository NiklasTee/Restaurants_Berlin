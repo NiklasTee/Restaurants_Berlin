{
 "cells": [
  {
   "cell_type": "markdown",
   "metadata": {
    "slideshow": {
     "slide_type": "slide"
    }
   },
   "source": [
    "# Visualization using [Kepler](https://kepler.gl/)"
   ]
  },
  {
   "cell_type": "markdown",
   "metadata": {
    "slideshow": {
     "slide_type": "slide"
    }
   },
   "source": [
    "Kepler is an open source geospatial analysis tool. It works well with large-scale data sets when coordinates (latitude, longitude) are specified. It can be used with various programming language, interfaces or via browser."
   ]
  },
  {
   "cell_type": "markdown",
   "metadata": {
    "slideshow": {
     "slide_type": "slide"
    }
   },
   "source": [
    "Since Latitude and Longitude of each restaurant were acquired through the Google API, we can visualize our findings. Within the menu on the left, you will find four different layers:\n",
    "\n",
    "1. *shows all restaurants with point colour depending on the Google rating and point size depending on the Number of Ratings*\n",
    "2. *shows all restaurants and whether they can be considered a franchise or not*\n",
    "3. *shows all restaurants and what price level they are considered at according to Google*\n",
    "4. *shows all restaurants and whether they have a delivery service*\n",
    "\n",
    "\n",
    "For clarity, make sure to have just one layer active at a time."
   ]
  },
  {
   "cell_type": "code",
   "execution_count": 1,
   "metadata": {
    "slideshow": {
     "slide_type": "slide"
    }
   },
   "outputs": [],
   "source": [
    "import pandas as pd\n",
    "import ast\n",
    "from keplergl import KeplerGl\n",
    "\n",
    "data = pd.read_pickle(r'data/geo_restaurants.pkl')\n",
    "df = pd.DataFrame(data)"
   ]
  },
  {
   "cell_type": "code",
   "execution_count": 3,
   "metadata": {
    "scrolled": false,
    "slideshow": {
     "slide_type": "slide"
    }
   },
   "outputs": [
    {
     "name": "stdout",
     "output_type": "stream",
     "text": [
      "User Guide: https://docs.kepler.gl/docs/keplergl-jupyter\n"
     ]
    },
    {
     "data": {
      "application/vnd.jupyter.widget-view+json": {
       "model_id": "05b304c2aeb241b992c3811c4f52d712",
       "version_major": 2,
       "version_minor": 0
      },
      "text/plain": [
       "KeplerGl(config={'version': 'v1', 'config': {'visState': {'filters': [], 'layers': [{'id': 'u8zu7zd', 'type': …"
      ]
     },
     "metadata": {},
     "output_type": "display_data"
    }
   ],
   "source": [
    "# Load keplergl config\n",
    "file = open(\"data/geo_config.txt\", \"r\")\n",
    "contents = file.read()\n",
    "config = ast.literal_eval(contents)\n",
    "file.close()\n",
    "\n",
    "# Add data to keplergl map\n",
    "map_1 = KeplerGl(height=575, data={'restaurants': df}, config=config)\n",
    "map_1"
   ]
  },
  {
   "cell_type": "markdown",
   "metadata": {
    "slideshow": {
     "slide_type": "-"
    }
   },
   "source": [
    "**Make sure to display the menu (upper left corner) and the legend (third icon upper right corner)**."
   ]
  },
  {
   "cell_type": "markdown",
   "metadata": {},
   "source": [
    "<br>You can try out the different exisiting layers or modify the map yourself. I hope you learned a lot about Restaurants in Berlin!"
   ]
  }
 ],
 "metadata": {
  "kernelspec": {
   "display_name": "Python 3",
   "language": "python",
   "name": "python3"
  },
  "language_info": {
   "codemirror_mode": {
    "name": "ipython",
    "version": 3
   },
   "file_extension": ".py",
   "mimetype": "text/x-python",
   "name": "python",
   "nbconvert_exporter": "python",
   "pygments_lexer": "ipython3",
   "version": "3.8.3"
  }
 },
 "nbformat": 4,
 "nbformat_minor": 4
}
